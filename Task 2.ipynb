{
  "nbformat": 4,
  "nbformat_minor": 0,
  "metadata": {
    "colab": {
      "provenance": []
    },
    "kernelspec": {
      "name": "python3",
      "display_name": "Python 3"
    },
    "language_info": {
      "name": "python"
    }
  },
  "cells": [
    {
      "cell_type": "markdown",
      "source": [
        "#***Predictive Model For House Prices***"
      ],
      "metadata": {
        "id": "q8PjnYQv2jJ-"
      }
    },
    {
      "cell_type": "markdown",
      "source": [
        "###**In This Project I will build a Prediction Model which helps us to predict the Price of a house according to its verious Features**"
      ],
      "metadata": {
        "id": "eiqb2_OF27Vm"
      }
    },
    {
      "cell_type": "markdown",
      "source": [
        "####**First , We install required libararies which used to make this model**"
      ],
      "metadata": {
        "id": "gvxeZToIJuPO"
      }
    },
    {
      "cell_type": "code",
      "source": [
        "import pandas as pd\n",
        "import numpy as np\n",
        "import seaborn as sns\n",
        "import matplotlib.pyplot as plt\n",
        "from sklearn.model_selection import train_test_split\n",
        "from sklearn.linear_model import LinearRegression\n",
        "from sklearn.metrics import mean_squared_error\n",
        "from sklearn.metrics import r2_score"
      ],
      "metadata": {
        "id": "un3VNd3Q3XmR"
      },
      "execution_count": 43,
      "outputs": []
    },
    {
      "cell_type": "markdown",
      "source": [
        "####***Now its time to import Our CSV file for this Model***"
      ],
      "metadata": {
        "id": "x3qWUrjVKeeW"
      }
    },
    {
      "cell_type": "code",
      "execution_count": 2,
      "metadata": {
        "colab": {
          "base_uri": "https://localhost:8080/"
        },
        "id": "HDI38rsk0dvS",
        "outputId": "4a7a3a2c-ba78-4392-ffb8-0522a0b5059b"
      },
      "outputs": [
        {
          "output_type": "stream",
          "name": "stdout",
          "text": [
            "Dataset URL: https://www.kaggle.com/datasets/harishkumardatalab/housing-price-prediction\n",
            "License(s): CC0-1.0\n",
            "Downloading housing-price-prediction.zip to /content\n",
            "  0% 0.00/4.63k [00:00<?, ?B/s]\n",
            "100% 4.63k/4.63k [00:00<00:00, 8.68MB/s]\n",
            "Archive:  housing-price-prediction.zip\n",
            "  inflating: Housing.csv             \n"
          ]
        }
      ],
      "source": [
        "url = 'https://www.kaggle.com/datasets/harishkumardatalab/housing-price-prediction'\n",
        "\n",
        "# Download the data from Kaggle\n",
        "!kaggle datasets download -d harishkumardatalab/housing-price-prediction\n",
        "\n",
        "!unzip housing-price-prediction.zip"
      ]
    },
    {
      "cell_type": "markdown",
      "source": [
        "####***Now read the CSV file as a dataframe df using Pandas***"
      ],
      "metadata": {
        "id": "9iqAge0rKyQa"
      }
    },
    {
      "cell_type": "code",
      "source": [
        "df = pd.read_csv('Housing.csv')\n",
        "\n",
        "#Print first 15 values from the CSv to check That is the CSV is Correct or Not\n",
        "print(df.head(15))"
      ],
      "metadata": {
        "colab": {
          "base_uri": "https://localhost:8080/"
        },
        "id": "Y_uSlPyyC0AG",
        "outputId": "4b90d054-7334-4909-a642-31b5cc2287b6"
      },
      "execution_count": 3,
      "outputs": [
        {
          "output_type": "stream",
          "name": "stdout",
          "text": [
            "       price   area  bedrooms  bathrooms  stories mainroad guestroom basement  \\\n",
            "0   13300000   7420         4          2        3      yes        no       no   \n",
            "1   12250000   8960         4          4        4      yes        no       no   \n",
            "2   12250000   9960         3          2        2      yes        no      yes   \n",
            "3   12215000   7500         4          2        2      yes        no      yes   \n",
            "4   11410000   7420         4          1        2      yes       yes      yes   \n",
            "5   10850000   7500         3          3        1      yes        no      yes   \n",
            "6   10150000   8580         4          3        4      yes        no       no   \n",
            "7   10150000  16200         5          3        2      yes        no       no   \n",
            "8    9870000   8100         4          1        2      yes       yes      yes   \n",
            "9    9800000   5750         3          2        4      yes       yes       no   \n",
            "10   9800000  13200         3          1        2      yes        no      yes   \n",
            "11   9681000   6000         4          3        2      yes       yes      yes   \n",
            "12   9310000   6550         4          2        2      yes        no       no   \n",
            "13   9240000   3500         4          2        2      yes        no       no   \n",
            "14   9240000   7800         3          2        2      yes        no       no   \n",
            "\n",
            "   hotwaterheating airconditioning  parking prefarea furnishingstatus  \n",
            "0               no             yes        2      yes        furnished  \n",
            "1               no             yes        3       no        furnished  \n",
            "2               no              no        2      yes   semi-furnished  \n",
            "3               no             yes        3      yes        furnished  \n",
            "4               no             yes        2       no        furnished  \n",
            "5               no             yes        2      yes   semi-furnished  \n",
            "6               no             yes        2      yes   semi-furnished  \n",
            "7               no              no        0       no      unfurnished  \n",
            "8               no             yes        2      yes        furnished  \n",
            "9               no             yes        1      yes      unfurnished  \n",
            "10              no             yes        2      yes        furnished  \n",
            "11             yes              no        2       no   semi-furnished  \n",
            "12              no             yes        1      yes   semi-furnished  \n",
            "13             yes              no        2       no        furnished  \n",
            "14              no              no        0      yes   semi-furnished  \n"
          ]
        }
      ]
    },
    {
      "cell_type": "markdown",
      "source": [
        "####***To make our calculation easy we convert yes and no into 1 and 0***"
      ],
      "metadata": {
        "id": "q8o4z-gfOfLr"
      }
    },
    {
      "cell_type": "code",
      "source": [
        "df = df.replace({'yes': 1, 'no': 0}).infer_objects(copy=False)\n",
        "\n",
        "print(df.head(15))"
      ],
      "metadata": {
        "colab": {
          "base_uri": "https://localhost:8080/"
        },
        "id": "yJqnAO_jOxfF",
        "outputId": "0126faf4-9258-49ca-a9e0-2d67c55805d6"
      },
      "execution_count": 12,
      "outputs": [
        {
          "output_type": "stream",
          "name": "stdout",
          "text": [
            "       price   area  bedrooms  bathrooms  stories  mainroad  guestroom  \\\n",
            "0   13300000   7420         4          2        3         1          0   \n",
            "1   12250000   8960         4          4        4         1          0   \n",
            "2   12250000   9960         3          2        2         1          0   \n",
            "3   12215000   7500         4          2        2         1          0   \n",
            "4   11410000   7420         4          1        2         1          1   \n",
            "5   10850000   7500         3          3        1         1          0   \n",
            "6   10150000   8580         4          3        4         1          0   \n",
            "7   10150000  16200         5          3        2         1          0   \n",
            "8    9870000   8100         4          1        2         1          1   \n",
            "9    9800000   5750         3          2        4         1          1   \n",
            "10   9800000  13200         3          1        2         1          0   \n",
            "11   9681000   6000         4          3        2         1          1   \n",
            "12   9310000   6550         4          2        2         1          0   \n",
            "13   9240000   3500         4          2        2         1          0   \n",
            "14   9240000   7800         3          2        2         1          0   \n",
            "\n",
            "    basement  hotwaterheating  airconditioning  parking  prefarea  \\\n",
            "0          0                0                1        2         1   \n",
            "1          0                0                1        3         0   \n",
            "2          1                0                0        2         1   \n",
            "3          1                0                1        3         1   \n",
            "4          1                0                1        2         0   \n",
            "5          1                0                1        2         1   \n",
            "6          0                0                1        2         1   \n",
            "7          0                0                0        0         0   \n",
            "8          1                0                1        2         1   \n",
            "9          0                0                1        1         1   \n",
            "10         1                0                1        2         1   \n",
            "11         1                1                0        2         0   \n",
            "12         0                0                1        1         1   \n",
            "13         0                1                0        2         0   \n",
            "14         0                0                0        0         1   \n",
            "\n",
            "   furnishingstatus  \n",
            "0         furnished  \n",
            "1         furnished  \n",
            "2    semi-furnished  \n",
            "3         furnished  \n",
            "4         furnished  \n",
            "5    semi-furnished  \n",
            "6    semi-furnished  \n",
            "7       unfurnished  \n",
            "8         furnished  \n",
            "9       unfurnished  \n",
            "10        furnished  \n",
            "11   semi-furnished  \n",
            "12   semi-furnished  \n",
            "13        furnished  \n",
            "14   semi-furnished  \n"
          ]
        }
      ]
    },
    {
      "cell_type": "markdown",
      "source": [
        "#**Prepare data form model traning**"
      ],
      "metadata": {
        "id": "Jzrs4ZmSSuux"
      }
    },
    {
      "cell_type": "markdown",
      "source": [
        "####***selection of Features and Target from the CSV for the model***"
      ],
      "metadata": {
        "id": "tR2gE2gXS45N"
      }
    },
    {
      "cell_type": "code",
      "source": [
        "#for this fisrt we have to convert furnishingstatus column into int data type so the model takes the values from that other its shows error\n",
        "df = df.replace({'furnished': 1, 'semi-furnished': 2,'unfurnished': 3}).infer_objects(copy=False)"
      ],
      "metadata": {
        "id": "nVJ5dT2hVAsP"
      },
      "execution_count": 33,
      "outputs": []
    },
    {
      "cell_type": "code",
      "source": [
        "#here x_data dataframe refers to the features which affect the model\n",
        "#here y_data dataframe refers to the target value of the model\n",
        "x_data = df.drop('price',axis=1)\n",
        "y_data = df['price']"
      ],
      "metadata": {
        "id": "IKIyWJIuTIb8"
      },
      "execution_count": 35,
      "outputs": []
    },
    {
      "cell_type": "code",
      "source": [
        "#print X_data and y_data\n",
        "\n",
        "print(x_data)\n",
        "print(y_data)"
      ],
      "metadata": {
        "colab": {
          "base_uri": "https://localhost:8080/"
        },
        "id": "DK6gEWfHTP8I",
        "outputId": "d2ca22d6-898f-4316-f72b-0fa36aa684dd"
      },
      "execution_count": 36,
      "outputs": [
        {
          "output_type": "stream",
          "name": "stdout",
          "text": [
            "     area  bedrooms  bathrooms  stories  mainroad  guestroom  basement  \\\n",
            "0    7420         4          2        3         1          0         0   \n",
            "1    8960         4          4        4         1          0         0   \n",
            "2    9960         3          2        2         1          0         1   \n",
            "3    7500         4          2        2         1          0         1   \n",
            "4    7420         4          1        2         1          1         1   \n",
            "..    ...       ...        ...      ...       ...        ...       ...   \n",
            "540  3000         2          1        1         1          0         1   \n",
            "541  2400         3          1        1         0          0         0   \n",
            "542  3620         2          1        1         1          0         0   \n",
            "543  2910         3          1        1         0          0         0   \n",
            "544  3850         3          1        2         1          0         0   \n",
            "\n",
            "     hotwaterheating  airconditioning  parking  prefarea  furnishingstatus  \n",
            "0                  0                1        2         1                 1  \n",
            "1                  0                1        3         0                 1  \n",
            "2                  0                0        2         1                 2  \n",
            "3                  0                1        3         1                 1  \n",
            "4                  0                1        2         0                 1  \n",
            "..               ...              ...      ...       ...               ...  \n",
            "540                0                0        2         0                 3  \n",
            "541                0                0        0         0                 2  \n",
            "542                0                0        0         0                 3  \n",
            "543                0                0        0         0                 1  \n",
            "544                0                0        0         0                 3  \n",
            "\n",
            "[545 rows x 12 columns]\n",
            "0      13300000\n",
            "1      12250000\n",
            "2      12250000\n",
            "3      12215000\n",
            "4      11410000\n",
            "         ...   \n",
            "540     1820000\n",
            "541     1767150\n",
            "542     1750000\n",
            "543     1750000\n",
            "544     1750000\n",
            "Name: price, Length: 545, dtype: int64\n"
          ]
        }
      ]
    },
    {
      "cell_type": "markdown",
      "source": [
        "####***Now we split the X_data and Y_data into test and train datas***"
      ],
      "metadata": {
        "id": "Xi9ON9FpT9no"
      }
    },
    {
      "cell_type": "code",
      "source": [
        "#here train data use to train the model and test data use to test the model after traning\n",
        "\n",
        "x_train,x_test,y_train,y_test = train_test_split(x_data,y_data,test_size=0.2,random_state=10)"
      ],
      "metadata": {
        "id": "pt05abA0UJ8U"
      },
      "execution_count": 78,
      "outputs": []
    },
    {
      "cell_type": "markdown",
      "source": [
        "#**Bulding and Traning the Model**"
      ],
      "metadata": {
        "id": "dsY9j4GEUaYn"
      }
    },
    {
      "cell_type": "markdown",
      "source": [
        "#***Model = Linear Regression***"
      ],
      "metadata": {
        "id": "_FGqSBHwUnZ7"
      }
    },
    {
      "cell_type": "code",
      "source": [
        "model = LinearRegression()\n",
        "model.fit(x_train,y_train)"
      ],
      "metadata": {
        "colab": {
          "base_uri": "https://localhost:8080/",
          "height": 80
        },
        "id": "1fIihvXYUxQR",
        "outputId": "d630ee7b-4450-42ca-cc3a-2ef2daa7081e"
      },
      "execution_count": 79,
      "outputs": [
        {
          "output_type": "execute_result",
          "data": {
            "text/plain": [
              "LinearRegression()"
            ],
            "text/html": [
              "<style>#sk-container-id-10 {\n",
              "  /* Definition of color scheme common for light and dark mode */\n",
              "  --sklearn-color-text: black;\n",
              "  --sklearn-color-line: gray;\n",
              "  /* Definition of color scheme for unfitted estimators */\n",
              "  --sklearn-color-unfitted-level-0: #fff5e6;\n",
              "  --sklearn-color-unfitted-level-1: #f6e4d2;\n",
              "  --sklearn-color-unfitted-level-2: #ffe0b3;\n",
              "  --sklearn-color-unfitted-level-3: chocolate;\n",
              "  /* Definition of color scheme for fitted estimators */\n",
              "  --sklearn-color-fitted-level-0: #f0f8ff;\n",
              "  --sklearn-color-fitted-level-1: #d4ebff;\n",
              "  --sklearn-color-fitted-level-2: #b3dbfd;\n",
              "  --sklearn-color-fitted-level-3: cornflowerblue;\n",
              "\n",
              "  /* Specific color for light theme */\n",
              "  --sklearn-color-text-on-default-background: var(--sg-text-color, var(--theme-code-foreground, var(--jp-content-font-color1, black)));\n",
              "  --sklearn-color-background: var(--sg-background-color, var(--theme-background, var(--jp-layout-color0, white)));\n",
              "  --sklearn-color-border-box: var(--sg-text-color, var(--theme-code-foreground, var(--jp-content-font-color1, black)));\n",
              "  --sklearn-color-icon: #696969;\n",
              "\n",
              "  @media (prefers-color-scheme: dark) {\n",
              "    /* Redefinition of color scheme for dark theme */\n",
              "    --sklearn-color-text-on-default-background: var(--sg-text-color, var(--theme-code-foreground, var(--jp-content-font-color1, white)));\n",
              "    --sklearn-color-background: var(--sg-background-color, var(--theme-background, var(--jp-layout-color0, #111)));\n",
              "    --sklearn-color-border-box: var(--sg-text-color, var(--theme-code-foreground, var(--jp-content-font-color1, white)));\n",
              "    --sklearn-color-icon: #878787;\n",
              "  }\n",
              "}\n",
              "\n",
              "#sk-container-id-10 {\n",
              "  color: var(--sklearn-color-text);\n",
              "}\n",
              "\n",
              "#sk-container-id-10 pre {\n",
              "  padding: 0;\n",
              "}\n",
              "\n",
              "#sk-container-id-10 input.sk-hidden--visually {\n",
              "  border: 0;\n",
              "  clip: rect(1px 1px 1px 1px);\n",
              "  clip: rect(1px, 1px, 1px, 1px);\n",
              "  height: 1px;\n",
              "  margin: -1px;\n",
              "  overflow: hidden;\n",
              "  padding: 0;\n",
              "  position: absolute;\n",
              "  width: 1px;\n",
              "}\n",
              "\n",
              "#sk-container-id-10 div.sk-dashed-wrapped {\n",
              "  border: 1px dashed var(--sklearn-color-line);\n",
              "  margin: 0 0.4em 0.5em 0.4em;\n",
              "  box-sizing: border-box;\n",
              "  padding-bottom: 0.4em;\n",
              "  background-color: var(--sklearn-color-background);\n",
              "}\n",
              "\n",
              "#sk-container-id-10 div.sk-container {\n",
              "  /* jupyter's `normalize.less` sets `[hidden] { display: none; }`\n",
              "     but bootstrap.min.css set `[hidden] { display: none !important; }`\n",
              "     so we also need the `!important` here to be able to override the\n",
              "     default hidden behavior on the sphinx rendered scikit-learn.org.\n",
              "     See: https://github.com/scikit-learn/scikit-learn/issues/21755 */\n",
              "  display: inline-block !important;\n",
              "  position: relative;\n",
              "}\n",
              "\n",
              "#sk-container-id-10 div.sk-text-repr-fallback {\n",
              "  display: none;\n",
              "}\n",
              "\n",
              "div.sk-parallel-item,\n",
              "div.sk-serial,\n",
              "div.sk-item {\n",
              "  /* draw centered vertical line to link estimators */\n",
              "  background-image: linear-gradient(var(--sklearn-color-text-on-default-background), var(--sklearn-color-text-on-default-background));\n",
              "  background-size: 2px 100%;\n",
              "  background-repeat: no-repeat;\n",
              "  background-position: center center;\n",
              "}\n",
              "\n",
              "/* Parallel-specific style estimator block */\n",
              "\n",
              "#sk-container-id-10 div.sk-parallel-item::after {\n",
              "  content: \"\";\n",
              "  width: 100%;\n",
              "  border-bottom: 2px solid var(--sklearn-color-text-on-default-background);\n",
              "  flex-grow: 1;\n",
              "}\n",
              "\n",
              "#sk-container-id-10 div.sk-parallel {\n",
              "  display: flex;\n",
              "  align-items: stretch;\n",
              "  justify-content: center;\n",
              "  background-color: var(--sklearn-color-background);\n",
              "  position: relative;\n",
              "}\n",
              "\n",
              "#sk-container-id-10 div.sk-parallel-item {\n",
              "  display: flex;\n",
              "  flex-direction: column;\n",
              "}\n",
              "\n",
              "#sk-container-id-10 div.sk-parallel-item:first-child::after {\n",
              "  align-self: flex-end;\n",
              "  width: 50%;\n",
              "}\n",
              "\n",
              "#sk-container-id-10 div.sk-parallel-item:last-child::after {\n",
              "  align-self: flex-start;\n",
              "  width: 50%;\n",
              "}\n",
              "\n",
              "#sk-container-id-10 div.sk-parallel-item:only-child::after {\n",
              "  width: 0;\n",
              "}\n",
              "\n",
              "/* Serial-specific style estimator block */\n",
              "\n",
              "#sk-container-id-10 div.sk-serial {\n",
              "  display: flex;\n",
              "  flex-direction: column;\n",
              "  align-items: center;\n",
              "  background-color: var(--sklearn-color-background);\n",
              "  padding-right: 1em;\n",
              "  padding-left: 1em;\n",
              "}\n",
              "\n",
              "\n",
              "/* Toggleable style: style used for estimator/Pipeline/ColumnTransformer box that is\n",
              "clickable and can be expanded/collapsed.\n",
              "- Pipeline and ColumnTransformer use this feature and define the default style\n",
              "- Estimators will overwrite some part of the style using the `sk-estimator` class\n",
              "*/\n",
              "\n",
              "/* Pipeline and ColumnTransformer style (default) */\n",
              "\n",
              "#sk-container-id-10 div.sk-toggleable {\n",
              "  /* Default theme specific background. It is overwritten whether we have a\n",
              "  specific estimator or a Pipeline/ColumnTransformer */\n",
              "  background-color: var(--sklearn-color-background);\n",
              "}\n",
              "\n",
              "/* Toggleable label */\n",
              "#sk-container-id-10 label.sk-toggleable__label {\n",
              "  cursor: pointer;\n",
              "  display: block;\n",
              "  width: 100%;\n",
              "  margin-bottom: 0;\n",
              "  padding: 0.5em;\n",
              "  box-sizing: border-box;\n",
              "  text-align: center;\n",
              "}\n",
              "\n",
              "#sk-container-id-10 label.sk-toggleable__label-arrow:before {\n",
              "  /* Arrow on the left of the label */\n",
              "  content: \"▸\";\n",
              "  float: left;\n",
              "  margin-right: 0.25em;\n",
              "  color: var(--sklearn-color-icon);\n",
              "}\n",
              "\n",
              "#sk-container-id-10 label.sk-toggleable__label-arrow:hover:before {\n",
              "  color: var(--sklearn-color-text);\n",
              "}\n",
              "\n",
              "/* Toggleable content - dropdown */\n",
              "\n",
              "#sk-container-id-10 div.sk-toggleable__content {\n",
              "  max-height: 0;\n",
              "  max-width: 0;\n",
              "  overflow: hidden;\n",
              "  text-align: left;\n",
              "  /* unfitted */\n",
              "  background-color: var(--sklearn-color-unfitted-level-0);\n",
              "}\n",
              "\n",
              "#sk-container-id-10 div.sk-toggleable__content.fitted {\n",
              "  /* fitted */\n",
              "  background-color: var(--sklearn-color-fitted-level-0);\n",
              "}\n",
              "\n",
              "#sk-container-id-10 div.sk-toggleable__content pre {\n",
              "  margin: 0.2em;\n",
              "  border-radius: 0.25em;\n",
              "  color: var(--sklearn-color-text);\n",
              "  /* unfitted */\n",
              "  background-color: var(--sklearn-color-unfitted-level-0);\n",
              "}\n",
              "\n",
              "#sk-container-id-10 div.sk-toggleable__content.fitted pre {\n",
              "  /* unfitted */\n",
              "  background-color: var(--sklearn-color-fitted-level-0);\n",
              "}\n",
              "\n",
              "#sk-container-id-10 input.sk-toggleable__control:checked~div.sk-toggleable__content {\n",
              "  /* Expand drop-down */\n",
              "  max-height: 200px;\n",
              "  max-width: 100%;\n",
              "  overflow: auto;\n",
              "}\n",
              "\n",
              "#sk-container-id-10 input.sk-toggleable__control:checked~label.sk-toggleable__label-arrow:before {\n",
              "  content: \"▾\";\n",
              "}\n",
              "\n",
              "/* Pipeline/ColumnTransformer-specific style */\n",
              "\n",
              "#sk-container-id-10 div.sk-label input.sk-toggleable__control:checked~label.sk-toggleable__label {\n",
              "  color: var(--sklearn-color-text);\n",
              "  background-color: var(--sklearn-color-unfitted-level-2);\n",
              "}\n",
              "\n",
              "#sk-container-id-10 div.sk-label.fitted input.sk-toggleable__control:checked~label.sk-toggleable__label {\n",
              "  background-color: var(--sklearn-color-fitted-level-2);\n",
              "}\n",
              "\n",
              "/* Estimator-specific style */\n",
              "\n",
              "/* Colorize estimator box */\n",
              "#sk-container-id-10 div.sk-estimator input.sk-toggleable__control:checked~label.sk-toggleable__label {\n",
              "  /* unfitted */\n",
              "  background-color: var(--sklearn-color-unfitted-level-2);\n",
              "}\n",
              "\n",
              "#sk-container-id-10 div.sk-estimator.fitted input.sk-toggleable__control:checked~label.sk-toggleable__label {\n",
              "  /* fitted */\n",
              "  background-color: var(--sklearn-color-fitted-level-2);\n",
              "}\n",
              "\n",
              "#sk-container-id-10 div.sk-label label.sk-toggleable__label,\n",
              "#sk-container-id-10 div.sk-label label {\n",
              "  /* The background is the default theme color */\n",
              "  color: var(--sklearn-color-text-on-default-background);\n",
              "}\n",
              "\n",
              "/* On hover, darken the color of the background */\n",
              "#sk-container-id-10 div.sk-label:hover label.sk-toggleable__label {\n",
              "  color: var(--sklearn-color-text);\n",
              "  background-color: var(--sklearn-color-unfitted-level-2);\n",
              "}\n",
              "\n",
              "/* Label box, darken color on hover, fitted */\n",
              "#sk-container-id-10 div.sk-label.fitted:hover label.sk-toggleable__label.fitted {\n",
              "  color: var(--sklearn-color-text);\n",
              "  background-color: var(--sklearn-color-fitted-level-2);\n",
              "}\n",
              "\n",
              "/* Estimator label */\n",
              "\n",
              "#sk-container-id-10 div.sk-label label {\n",
              "  font-family: monospace;\n",
              "  font-weight: bold;\n",
              "  display: inline-block;\n",
              "  line-height: 1.2em;\n",
              "}\n",
              "\n",
              "#sk-container-id-10 div.sk-label-container {\n",
              "  text-align: center;\n",
              "}\n",
              "\n",
              "/* Estimator-specific */\n",
              "#sk-container-id-10 div.sk-estimator {\n",
              "  font-family: monospace;\n",
              "  border: 1px dotted var(--sklearn-color-border-box);\n",
              "  border-radius: 0.25em;\n",
              "  box-sizing: border-box;\n",
              "  margin-bottom: 0.5em;\n",
              "  /* unfitted */\n",
              "  background-color: var(--sklearn-color-unfitted-level-0);\n",
              "}\n",
              "\n",
              "#sk-container-id-10 div.sk-estimator.fitted {\n",
              "  /* fitted */\n",
              "  background-color: var(--sklearn-color-fitted-level-0);\n",
              "}\n",
              "\n",
              "/* on hover */\n",
              "#sk-container-id-10 div.sk-estimator:hover {\n",
              "  /* unfitted */\n",
              "  background-color: var(--sklearn-color-unfitted-level-2);\n",
              "}\n",
              "\n",
              "#sk-container-id-10 div.sk-estimator.fitted:hover {\n",
              "  /* fitted */\n",
              "  background-color: var(--sklearn-color-fitted-level-2);\n",
              "}\n",
              "\n",
              "/* Specification for estimator info (e.g. \"i\" and \"?\") */\n",
              "\n",
              "/* Common style for \"i\" and \"?\" */\n",
              "\n",
              ".sk-estimator-doc-link,\n",
              "a:link.sk-estimator-doc-link,\n",
              "a:visited.sk-estimator-doc-link {\n",
              "  float: right;\n",
              "  font-size: smaller;\n",
              "  line-height: 1em;\n",
              "  font-family: monospace;\n",
              "  background-color: var(--sklearn-color-background);\n",
              "  border-radius: 1em;\n",
              "  height: 1em;\n",
              "  width: 1em;\n",
              "  text-decoration: none !important;\n",
              "  margin-left: 1ex;\n",
              "  /* unfitted */\n",
              "  border: var(--sklearn-color-unfitted-level-1) 1pt solid;\n",
              "  color: var(--sklearn-color-unfitted-level-1);\n",
              "}\n",
              "\n",
              ".sk-estimator-doc-link.fitted,\n",
              "a:link.sk-estimator-doc-link.fitted,\n",
              "a:visited.sk-estimator-doc-link.fitted {\n",
              "  /* fitted */\n",
              "  border: var(--sklearn-color-fitted-level-1) 1pt solid;\n",
              "  color: var(--sklearn-color-fitted-level-1);\n",
              "}\n",
              "\n",
              "/* On hover */\n",
              "div.sk-estimator:hover .sk-estimator-doc-link:hover,\n",
              ".sk-estimator-doc-link:hover,\n",
              "div.sk-label-container:hover .sk-estimator-doc-link:hover,\n",
              ".sk-estimator-doc-link:hover {\n",
              "  /* unfitted */\n",
              "  background-color: var(--sklearn-color-unfitted-level-3);\n",
              "  color: var(--sklearn-color-background);\n",
              "  text-decoration: none;\n",
              "}\n",
              "\n",
              "div.sk-estimator.fitted:hover .sk-estimator-doc-link.fitted:hover,\n",
              ".sk-estimator-doc-link.fitted:hover,\n",
              "div.sk-label-container:hover .sk-estimator-doc-link.fitted:hover,\n",
              ".sk-estimator-doc-link.fitted:hover {\n",
              "  /* fitted */\n",
              "  background-color: var(--sklearn-color-fitted-level-3);\n",
              "  color: var(--sklearn-color-background);\n",
              "  text-decoration: none;\n",
              "}\n",
              "\n",
              "/* Span, style for the box shown on hovering the info icon */\n",
              ".sk-estimator-doc-link span {\n",
              "  display: none;\n",
              "  z-index: 9999;\n",
              "  position: relative;\n",
              "  font-weight: normal;\n",
              "  right: .2ex;\n",
              "  padding: .5ex;\n",
              "  margin: .5ex;\n",
              "  width: min-content;\n",
              "  min-width: 20ex;\n",
              "  max-width: 50ex;\n",
              "  color: var(--sklearn-color-text);\n",
              "  box-shadow: 2pt 2pt 4pt #999;\n",
              "  /* unfitted */\n",
              "  background: var(--sklearn-color-unfitted-level-0);\n",
              "  border: .5pt solid var(--sklearn-color-unfitted-level-3);\n",
              "}\n",
              "\n",
              ".sk-estimator-doc-link.fitted span {\n",
              "  /* fitted */\n",
              "  background: var(--sklearn-color-fitted-level-0);\n",
              "  border: var(--sklearn-color-fitted-level-3);\n",
              "}\n",
              "\n",
              ".sk-estimator-doc-link:hover span {\n",
              "  display: block;\n",
              "}\n",
              "\n",
              "/* \"?\"-specific style due to the `<a>` HTML tag */\n",
              "\n",
              "#sk-container-id-10 a.estimator_doc_link {\n",
              "  float: right;\n",
              "  font-size: 1rem;\n",
              "  line-height: 1em;\n",
              "  font-family: monospace;\n",
              "  background-color: var(--sklearn-color-background);\n",
              "  border-radius: 1rem;\n",
              "  height: 1rem;\n",
              "  width: 1rem;\n",
              "  text-decoration: none;\n",
              "  /* unfitted */\n",
              "  color: var(--sklearn-color-unfitted-level-1);\n",
              "  border: var(--sklearn-color-unfitted-level-1) 1pt solid;\n",
              "}\n",
              "\n",
              "#sk-container-id-10 a.estimator_doc_link.fitted {\n",
              "  /* fitted */\n",
              "  border: var(--sklearn-color-fitted-level-1) 1pt solid;\n",
              "  color: var(--sklearn-color-fitted-level-1);\n",
              "}\n",
              "\n",
              "/* On hover */\n",
              "#sk-container-id-10 a.estimator_doc_link:hover {\n",
              "  /* unfitted */\n",
              "  background-color: var(--sklearn-color-unfitted-level-3);\n",
              "  color: var(--sklearn-color-background);\n",
              "  text-decoration: none;\n",
              "}\n",
              "\n",
              "#sk-container-id-10 a.estimator_doc_link.fitted:hover {\n",
              "  /* fitted */\n",
              "  background-color: var(--sklearn-color-fitted-level-3);\n",
              "}\n",
              "</style><div id=\"sk-container-id-10\" class=\"sk-top-container\"><div class=\"sk-text-repr-fallback\"><pre>LinearRegression()</pre><b>In a Jupyter environment, please rerun this cell to show the HTML representation or trust the notebook. <br />On GitHub, the HTML representation is unable to render, please try loading this page with nbviewer.org.</b></div><div class=\"sk-container\" hidden><div class=\"sk-item\"><div class=\"sk-estimator fitted sk-toggleable\"><input class=\"sk-toggleable__control sk-hidden--visually\" id=\"sk-estimator-id-10\" type=\"checkbox\" checked><label for=\"sk-estimator-id-10\" class=\"sk-toggleable__label fitted sk-toggleable__label-arrow fitted\">&nbsp;&nbsp;LinearRegression<a class=\"sk-estimator-doc-link fitted\" rel=\"noreferrer\" target=\"_blank\" href=\"https://scikit-learn.org/1.5/modules/generated/sklearn.linear_model.LinearRegression.html\">?<span>Documentation for LinearRegression</span></a><span class=\"sk-estimator-doc-link fitted\">i<span>Fitted</span></span></label><div class=\"sk-toggleable__content fitted\"><pre>LinearRegression()</pre></div> </div></div></div></div>"
            ]
          },
          "metadata": {},
          "execution_count": 79
        }
      ]
    },
    {
      "cell_type": "markdown",
      "source": [
        "####***Now we store the predict value using by our model by gave x_test values to the model in Y_pred dataframe***"
      ],
      "metadata": {
        "id": "8aRdqz5BWJs6"
      }
    },
    {
      "cell_type": "code",
      "source": [
        "y_pred = model.predict(x_test)"
      ],
      "metadata": {
        "id": "J62UhLG5WMcZ"
      },
      "execution_count": 80,
      "outputs": []
    },
    {
      "cell_type": "markdown",
      "source": [
        "####***get the accurasy score of the model***"
      ],
      "metadata": {
        "id": "Z-otbknmas2U"
      }
    },
    {
      "cell_type": "code",
      "source": [
        "r2 = r2_score(y_test, y_pred)\n",
        "print(f\"R-squared: {r2}\")"
      ],
      "metadata": {
        "colab": {
          "base_uri": "https://localhost:8080/"
        },
        "id": "muMe9E1VWnEm",
        "outputId": "0e004407-5db5-4c14-ed17-63f433173db9"
      },
      "execution_count": 81,
      "outputs": [
        {
          "output_type": "stream",
          "name": "stdout",
          "text": [
            "R-squared: 0.7331102153370126\n"
          ]
        }
      ]
    },
    {
      "cell_type": "markdown",
      "source": [
        "####***Now we make a graph scatter plot between predicted price and the real price***"
      ],
      "metadata": {
        "id": "X-81Axn4a4zk"
      }
    },
    {
      "cell_type": "code",
      "source": [
        "plt.figure(figsize=(12,8))\n",
        "plt.scatter(y_test,y_pred ,alpha=0.7)\n",
        "plt.plot([min(y_test),max(y_test)],[min(y_pred),max(y_pred)],'g', lw=2)\n",
        "plt.xlabel('Actual Price')\n",
        "plt.ylabel('Predicted Price')\n",
        "plt.title('Actual Price vs Predicted Price')\n",
        "plt.show()"
      ],
      "metadata": {
        "colab": {
          "base_uri": "https://localhost:8080/",
          "height": 718
        },
        "id": "O-YTGCxYX53o",
        "outputId": "85943a2b-fb8d-4d27-b65a-85b993c2d371"
      },
      "execution_count": 88,
      "outputs": [
        {
          "output_type": "display_data",
          "data": {
            "text/plain": [
              "<Figure size 1200x800 with 1 Axes>"
            ],
            "image/png": "[encoded data removed]"
          },
          "metadata": {}
        }
      ]
    },
    {
      "cell_type": "markdown",
      "source": [
        "####***Now we use a user data to test our model that is it working or now and get the price from the model by gave it a user define values***"
      ],
      "metadata": {
        "id": "h1eV7To8bJ6A"
      }
    },
    {
      "cell_type": "code",
      "source": [
        "user_data = {\n",
        "    'area' : 5568,\n",
        "    'bedrooms' : 3,\n",
        "    'bathrooms' : 3,\n",
        "    'stories' : 1,\n",
        "    'mainroad' : 0,\n",
        "    'guestroom' : 1,\n",
        "    'basement' : 0,\n",
        "    'hotwaterheating' : 1,\n",
        "    'airconditioning' : 1,\n",
        "    'parking' : 0,\n",
        "    'prefarea' : 0,\n",
        "    'furnishingstatus' : 2\n",
        "    }\n",
        "\n",
        "user_df = pd.DataFrame(user_data,index=[0])\n",
        "\n",
        "print(user_df)"
      ],
      "metadata": {
        "colab": {
          "base_uri": "https://localhost:8080/"
        },
        "id": "L64N39lQYw4P",
        "outputId": "5ada2b2c-a81b-4865-8122-b0bc934f02aa"
      },
      "execution_count": 91,
      "outputs": [
        {
          "output_type": "stream",
          "name": "stdout",
          "text": [
            "   area  bedrooms  bathrooms  stories  mainroad  guestroom  basement  \\\n",
            "0  5568         3          3        1         0          1         0   \n",
            "\n",
            "   hotwaterheating  airconditioning  parking  prefarea  furnishingstatus  \n",
            "0                1                1        0         0                 2  \n"
          ]
        }
      ]
    },
    {
      "cell_type": "code",
      "source": [
        "result = model.predict(user_df)\n",
        "print(result)"
      ],
      "metadata": {
        "colab": {
          "base_uri": "https://localhost:8080/"
        },
        "id": "jYxFnG9xafEh",
        "outputId": "79ef9cae-9afe-4d8e-ba1f-bf3f61e08ee5"
      },
      "execution_count": 92,
      "outputs": [
        {
          "output_type": "stream",
          "name": "stdout",
          "text": [
            "[6891208.16629554]\n"
          ]
        }
      ]
    }
  ]
}